{
 "cells": [
  {
   "cell_type": "markdown",
   "id": "5abceb5a",
   "metadata": {},
   "source": [
    "### Case Sensitivity"
   ]
  },
  {
   "cell_type": "code",
   "execution_count": 1,
   "id": "33f16950",
   "metadata": {},
   "outputs": [
    {
     "name": "stdout",
     "output_type": "stream",
     "text": [
      "Akshat\n",
      "Acharya\n"
     ]
    }
   ],
   "source": [
    "name = \"Akshat\"\n",
    "Name = \"Acharya\"\n",
    "print(name)\n",
    "print(Name)"
   ]
  },
  {
   "cell_type": "markdown",
   "id": "b8b9912b",
   "metadata": {},
   "source": [
    "### Indentation\n",
    "Indentation in Python is used to define the structure and hierarchy of the code . Unlike many other programming languages that use braces {} to delimit blocks of code ,Python uses indentation to determine the grouping statements. This means that all the statements within a block must be indented at the same level."
   ]
  },
  {
   "cell_type": "code",
   "execution_count": 1,
   "id": "578169cb",
   "metadata": {},
   "outputs": [
    {
     "name": "stdout",
     "output_type": "stream",
     "text": [
      "Less than 30\n"
     ]
    }
   ],
   "source": [
    "## Python uses indentation to define block of codes . Consistent use of spaces (commanly 4) or a tab is required\n",
    "age = 3\n",
    "if age>30:\n",
    "    print(\"Greater than 30\")\n",
    "else:\n",
    "    print(\"Less than 30\")"
   ]
  },
  {
   "cell_type": "markdown",
   "id": "654f34e1",
   "metadata": {},
   "source": [
    "### Line Continuation\n",
    "Use a Backslash (\\\\) to continue statement at the next line"
   ]
  },
  {
   "cell_type": "code",
   "execution_count": null,
   "id": "65a42bd0",
   "metadata": {},
   "outputs": [
    {
     "name": "stdout",
     "output_type": "stream",
     "text": [
      "21\n"
     ]
    }
   ],
   "source": [
    "total = 1+2+3+4+\\\n",
    "5+6\n",
    "print(total)"
   ]
  },
  {
   "cell_type": "markdown",
   "id": "5674148e",
   "metadata": {},
   "source": [
    "### Semantics "
   ]
  },
  {
   "cell_type": "code",
   "execution_count": 5,
   "id": "28bec936",
   "metadata": {},
   "outputs": [],
   "source": [
    "age = 20\n",
    "name= \"Akshat\""
   ]
  },
  {
   "cell_type": "code",
   "execution_count": 6,
   "id": "8344d0ec",
   "metadata": {},
   "outputs": [
    {
     "data": {
      "text/plain": [
       "int"
      ]
     },
     "execution_count": 6,
     "metadata": {},
     "output_type": "execute_result"
    }
   ],
   "source": [
    "type(age)"
   ]
  },
  {
   "cell_type": "code",
   "execution_count": 7,
   "id": "fc58af07",
   "metadata": {},
   "outputs": [
    {
     "data": {
      "text/plain": [
       "str"
      ]
     },
     "execution_count": 7,
     "metadata": {},
     "output_type": "execute_result"
    }
   ],
   "source": [
    "type(name)"
   ]
  },
  {
   "cell_type": "code",
   "execution_count": 8,
   "id": "2d5d2095",
   "metadata": {},
   "outputs": [
    {
     "name": "stdout",
     "output_type": "stream",
     "text": [
      "<class 'int'>\n",
      "<class 'str'>\n"
     ]
    }
   ],
   "source": [
    "#Type Inference \n",
    "variable = 10\n",
    "print(type(variable))\n",
    "variable=\"akshat\"\n",
    "print(type(variable))"
   ]
  }
 ],
 "metadata": {
  "kernelspec": {
   "display_name": "Python 3",
   "language": "python",
   "name": "python3"
  },
  "language_info": {
   "codemirror_mode": {
    "name": "ipython",
    "version": 3
   },
   "file_extension": ".py",
   "mimetype": "text/x-python",
   "name": "python",
   "nbconvert_exporter": "python",
   "pygments_lexer": "ipython3",
   "version": "3.12.0"
  }
 },
 "nbformat": 4,
 "nbformat_minor": 5
}
