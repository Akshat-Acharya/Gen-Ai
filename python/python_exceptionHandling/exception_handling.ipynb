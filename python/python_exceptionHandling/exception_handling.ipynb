{
 "cells": [
  {
   "cell_type": "markdown",
   "id": "83923c56",
   "metadata": {},
   "source": [
    "### Exception Handling using Try except block"
   ]
  },
  {
   "cell_type": "code",
   "execution_count": 1,
   "id": "8cad4089",
   "metadata": {},
   "outputs": [
    {
     "name": "stdout",
     "output_type": "stream",
     "text": [
      "Hey the variable is not been assigned\n"
     ]
    }
   ],
   "source": [
    "try : \n",
    "    a = b\n",
    "except :\n",
    "    print(\"Hey the variable is not been assigned\")"
   ]
  },
  {
   "cell_type": "code",
   "execution_count": 2,
   "id": "eaaa8dbc",
   "metadata": {},
   "outputs": [
    {
     "name": "stdout",
     "output_type": "stream",
     "text": [
      "Hey the variable is not been assigned :  name 'b' is not defined\n"
     ]
    }
   ],
   "source": [
    "try : \n",
    "    a = b\n",
    "except NameError as ex :\n",
    "    print(\"Hey the variable is not been assigned : \",ex)"
   ]
  },
  {
   "cell_type": "code",
   "execution_count": 4,
   "id": "d12dc03a",
   "metadata": {},
   "outputs": [
    {
     "name": "stdout",
     "output_type": "stream",
     "text": [
      "Erorrrr :  division by zero\n"
     ]
    }
   ],
   "source": [
    "try:\n",
    "    result = 1/0\n",
    "except ZeroDivisionError as e :\n",
    "    print(\"Erorrrr : \",e)"
   ]
  },
  {
   "cell_type": "code",
   "execution_count": 6,
   "id": "1998f33f",
   "metadata": {},
   "outputs": [
    {
     "name": "stdout",
     "output_type": "stream",
     "text": [
      "Exceptionnnn :  name 'b' is not defined\n"
     ]
    }
   ],
   "source": [
    "try:\n",
    "    result = 1/2\n",
    "    a = b\n",
    "except ZeroDivisionError as e :\n",
    "    print(\"Erorrrr : \",e)\n",
    "except Exception as exc :\n",
    "    print(\"Exceptionnnn : \",exc)"
   ]
  }
 ],
 "metadata": {
  "kernelspec": {
   "display_name": "Python 3",
   "language": "python",
   "name": "python3"
  },
  "language_info": {
   "codemirror_mode": {
    "name": "ipython",
    "version": 3
   },
   "file_extension": ".py",
   "mimetype": "text/x-python",
   "name": "python",
   "nbconvert_exporter": "python",
   "pygments_lexer": "ipython3",
   "version": "3.12.0"
  }
 },
 "nbformat": 4,
 "nbformat_minor": 5
}
