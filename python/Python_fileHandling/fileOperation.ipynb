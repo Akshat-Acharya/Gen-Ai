{
 "cells": [
  {
   "cell_type": "markdown",
   "id": "62f051c5",
   "metadata": {},
   "source": [
    "### Read a whole File"
   ]
  },
  {
   "cell_type": "code",
   "execution_count": 7,
   "id": "ffe4d20e",
   "metadata": {},
   "outputs": [
    {
     "name": "stdout",
     "output_type": "stream",
     "text": [
      "Hello World!\n",
      "This is a new Line\n"
     ]
    }
   ],
   "source": [
    "with open('example.txt','r') as file:\n",
    "    content = file.read()\n",
    "    print(content)"
   ]
  },
  {
   "cell_type": "code",
   "execution_count": 9,
   "id": "fa66bc6e",
   "metadata": {},
   "outputs": [
    {
     "name": "stdout",
     "output_type": "stream",
     "text": [
      "Hello World!\n",
      "This is a new LineAppennd operation ex\n"
     ]
    }
   ],
   "source": [
    "## Read a file Line by Line \n",
    "with open('example.txt','r') as file:\n",
    "    for line in file:\n",
    "        print(line.strip())"
   ]
  },
  {
   "cell_type": "markdown",
   "id": "800c17c5",
   "metadata": {},
   "source": [
    "### Writing a file"
   ]
  },
  {
   "cell_type": "code",
   "execution_count": 5,
   "id": "98862d07",
   "metadata": {},
   "outputs": [],
   "source": [
    "with open('example.txt','w') as file:\n",
    "    file.write(\"Hello World!\\n\")\n",
    "    file.write(\"This is a new Line\")"
   ]
  },
  {
   "cell_type": "markdown",
   "id": "3a838a61",
   "metadata": {},
   "source": [
    "## Write a file without overwriting "
   ]
  },
  {
   "cell_type": "code",
   "execution_count": 10,
   "id": "e5c59854",
   "metadata": {},
   "outputs": [],
   "source": [
    "with open(\"example.txt\",'a') as file:\n",
    "    file.write(\" \\nAppennd operation ex\")"
   ]
  },
  {
   "cell_type": "markdown",
   "id": "ea814662",
   "metadata": {},
   "source": [
    "### Writing a list of lines to the file"
   ]
  },
  {
   "cell_type": "code",
   "execution_count": 11,
   "id": "df7d5f5c",
   "metadata": {},
   "outputs": [],
   "source": [
    "lines=['First line\\n',\"Second Line\\n\",\"third Line\"]\n",
    "with open(\"example.txt\",'a') as file:\n",
    "    file.writelines(lines)"
   ]
  },
  {
   "cell_type": "markdown",
   "id": "b3a43999",
   "metadata": {},
   "source": [
    "### Binary Files"
   ]
  },
  {
   "cell_type": "code",
   "execution_count": 13,
   "id": "c67fee28",
   "metadata": {},
   "outputs": [],
   "source": [
    "data = b'\\x00\\x01\\x02\\x03\\x04'\n",
    "with open('example.bin','wb') as file:\n",
    "    file.write(data)"
   ]
  },
  {
   "cell_type": "code",
   "execution_count": 17,
   "id": "b0c0ddfb",
   "metadata": {},
   "outputs": [
    {
     "name": "stdout",
     "output_type": "stream",
     "text": [
      "b'\\x00\\x01\\x02\\x03\\x04'\n"
     ]
    }
   ],
   "source": [
    "data = b'\\x00\\x01\\x02\\x03\\x04'\n",
    "with open('example.bin','rb') as file:\n",
    "    print(file.read())"
   ]
  }
 ],
 "metadata": {
  "kernelspec": {
   "display_name": "Python 3",
   "language": "python",
   "name": "python3"
  },
  "language_info": {
   "codemirror_mode": {
    "name": "ipython",
    "version": 3
   },
   "file_extension": ".py",
   "mimetype": "text/x-python",
   "name": "python",
   "nbconvert_exporter": "python",
   "pygments_lexer": "ipython3",
   "version": "3.12.0"
  }
 },
 "nbformat": 4,
 "nbformat_minor": 5
}
